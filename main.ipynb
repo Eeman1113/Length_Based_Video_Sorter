{
 "cells": [
  {
   "cell_type": "code",
   "execution_count": 18,
   "metadata": {},
   "outputs": [],
   "source": [
    "import os\n",
    "import glob\n",
    "import shutil\n",
    "import subprocess\n",
    "import json"
   ]
  },
  {
   "cell_type": "code",
   "execution_count": 26,
   "metadata": {},
   "outputs": [],
   "source": [
    "\n",
    "def checkduration(path):\n",
    "    out = subprocess.check_output([\"ffprobe\", \"-v\", \"quiet\", \"-show_format\", \"-print_format\", \"json\", path])\n",
    "    ffprobe_data = json.loads(out)\n",
    "    duration_seconds = float(ffprobe_data[\"format\"][\"duration\"])*0.0166667\n",
    "    return duration_seconds"
   ]
  },
  {
   "cell_type": "code",
   "execution_count": 27,
   "metadata": {},
   "outputs": [],
   "source": [
    "def find_mp4_files(folder_path):\n",
    "    mp4_files = []\n",
    "    if not os.path.exists(folder_path):\n",
    "        print(\"Folder path does not exist.\")\n",
    "        return mp4_files\n",
    "\n",
    "    # Use glob to find all .mp4 files in the folder and its subfolders\n",
    "    search_pattern = os.path.join(folder_path, '**/*.mp4')\n",
    "    mp4_files.extend(glob.glob(search_pattern, recursive=True))\n",
    "\n",
    "    return mp4_files\n"
   ]
  },
  {
   "cell_type": "code",
   "execution_count": 28,
   "metadata": {},
   "outputs": [
    {
     "name": "stdout",
     "output_type": "stream",
     "text": [
      "./videos/This Cool JavaScript Effect Will Make Your Website 3D !.mp4\n"
     ]
    }
   ],
   "source": [
    "\n",
    "user_folder_path = input(\"Enter the folder path: \")\n",
    "mp4_files_list = find_mp4_files(user_folder_path)\n",
    "\n",
    "for i in range(0,len(mp4_files_list)):\n",
    "    print(mp4_files_list[i])\n",
    "    if checkduration(mp4_files_list[i])>=60:\n",
    "        os.rename(f\"{mp4_files_list[i]}\", f\"./videos_longer_than_60/{mp4_files_list[i].split('/')[-1]}\")\n",
    "        # os.replace(f\"{mp4_files_list[i]}\", f\"./videos_longer_than_60/{mp4_files_list[i].split('/')[-1]}\")\n",
    "        # shutil.move((f\"{mp4_files_list[i]}\", f\"./videos_longer_than_60/{mp4_files_list[i].split('/')[-1]}\"))\n",
    "    elif checkduration(mp4_files_list[i])<=60:\n",
    "        os.rename(f\"{mp4_files_list[i]}\", f\"./videos_less_than_60/{mp4_files_list[i].split('/')[-1]}\")\n",
    "        # os.replace(f\"{mp4_files_list[i]}\", f\"./videos_less_than_60/{mp4_files_list[i].split('/')[-1]}\")\n",
    "        # shutil.move(f\"{mp4_files_list[i]}\", f\"./videos_less_than_60/{mp4_files_list[i].split('/')[-1]}\")\n",
    "    "
   ]
  }
 ],
 "metadata": {
  "kernelspec": {
   "display_name": "Python 3",
   "language": "python",
   "name": "python3"
  },
  "language_info": {
   "codemirror_mode": {
    "name": "ipython",
    "version": 3
   },
   "file_extension": ".py",
   "mimetype": "text/x-python",
   "name": "python",
   "nbconvert_exporter": "python",
   "pygments_lexer": "ipython3",
   "version": "3.9.16"
  },
  "orig_nbformat": 4
 },
 "nbformat": 4,
 "nbformat_minor": 2
}
